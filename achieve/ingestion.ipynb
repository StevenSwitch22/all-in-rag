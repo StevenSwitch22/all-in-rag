{
 "cells": [
  {
   "cell_type": "code",
   "execution_count": null,
   "id": "52dd7dec",
   "metadata": {},
   "outputs": [
    {
     "name": "stdout",
     "output_type": "stream",
     "text": [
      "root =  /workspaces/all-in-rag\n",
      "code =  /workspaces/all-in-rag/code\n",
      "code had insert!\n"
     ]
    }
   ],
   "source": [
    "import sys, pathlib\n",
    "root = pathlib.Path().resolve().parent\n",
    "print(\"root = \", root)\n",
    "path_code = root / \"code\"\n",
    "print(\"code = \", path_code)\n",
    "if str(path_code) not in sys.path:\n",
    "    sys.path.insert(0, str(path_code))\n",
    "    print(\"code had insert!\")\n",
    "from C3.v"
   ]
  },
  {
   "cell_type": "code",
   "execution_count": null,
   "id": "c44396fb",
   "metadata": {},
   "outputs": [],
   "source": [
    "import os\n",
    "os.environ[\"HF_ENDPOINT\"] = \"https://hf-mirror.com\"\n",
    "import torch\n",
    "from code.C3.visual_bge.visual_bge.visual_bge.modeling import Visualized_BGE\n",
    "from \n",
    "model = Visualized_BGE(model_name_bge=\"BAAI/bge-base-en-v1.5\",\n",
    "                      model_weight=\"../../models/bge/Visualized_base_en_v1.5.pth\")\n",
    "model.eval()\n",
    "\n",
    "with torch.no_grad():\n",
    "    text_emb = model.encode(text=\"datawhale开源组织的logo\")\n",
    "    img_emb_1 = model.encode(image=\"../../data/C3/imgs/datawhale01.png\")\n",
    "    multi_emb_1 = model.encode(image=\"../../data/C3/imgs/datawhale01.png\", text=\"datawhale开源组织的logo\")\n",
    "    img_emb_2 = model.encode(image=\"../../data/C3/imgs/datawhale02.png\")\n",
    "    multi_emb_2 = model.encode(image=\"../../data/C3/imgs/datawhale02.png\", text=\"datawhale开源组织的logo\")\n",
    "\n",
    "# 计算相似度\n",
    "sim_1 = img_emb_1 @ img_emb_2.T\n",
    "sim_2 = img_emb_1 @ multi_emb_1.T\n",
    "sim_3 = text_emb @ multi_emb_1.T\n",
    "sim_4 = multi_emb_1 @ multi_emb_2.T\n",
    "\n",
    "print(\"=== 相似度计算结果 ===\")\n",
    "print(f\"纯图像 vs 纯图像: {sim_1}\")\n",
    "print(f\"图文结合1 vs 纯图像: {sim_2}\")\n",
    "print(f\"图文结合1 vs 纯文本: {sim_3}\")\n",
    "print(f\"图文结合1 vs 图文结合2: {sim_4}\")\n"
   ]
  }
 ],
 "metadata": {
  "kernelspec": {
   "display_name": "all-in-rag",
   "language": "python",
   "name": "python3"
  },
  "language_info": {
   "codemirror_mode": {
    "name": "ipython",
    "version": 3
   },
   "file_extension": ".py",
   "mimetype": "text/x-python",
   "name": "python",
   "nbconvert_exporter": "python",
   "pygments_lexer": "ipython3",
   "version": "3.12.7"
  }
 },
 "nbformat": 4,
 "nbformat_minor": 5
}
