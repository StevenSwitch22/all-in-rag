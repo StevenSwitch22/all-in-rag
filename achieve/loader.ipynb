{
 "cells": [
  {
   "cell_type": "code",
   "execution_count": null,
   "id": "fd09d4f2",
   "metadata": {},
   "outputs": [],
   "source": [
    "from unstructured.partition.auto import partition\n",
    "\n",
    "# PDF文件路径\n",
    "pdf_path = \"../data/C2/pdf/rag.pdf\"\n",
    "\n",
    "# 使用Unstructured加载并解析PDF文档\n",
    "elements = partition(\n",
    "    filename=pdf_path,\n",
    "    content_type=\"application/pdf\"\n",
    ")\n",
    "\n",
    "# 打印解析结果\n",
    "print(f\"解析完成: {len(elements)} 个元素, {sum(len(str(e)) for e in elements)} 字符\")\n",
    "\n",
    "# 统计元素类型\n",
    "from collections import Counter\n",
    "types = Counter(e.category for e in elements)\n",
    "print(f\"元素类型: {dict(types)}\")\n",
    "\n",
    "# 显示所有元素\n",
    "print(\"\\n所有元素:\")\n",
    "for i, element in enumerate(elements, 1):\n",
    "    print(f\"Element {i} ({element.category}):\")\n",
    "    print(element)\n",
    "    print(\"=\" * 60)\n"
   ]
  },
  {
   "cell_type": "code",
   "execution_count": null,
   "id": "85d3f5cf",
   "metadata": {},
   "outputs": [],
   "source": [
    "from langchain.text_splitter import CharacterTextSplitter\n",
    "from langchain_community.document_loaders import TextLoader\n",
    "\n",
    "loader = TextLoader(\"../data/C2/txt/蜂医.txt\")\n",
    "docs = loader.load()\n",
    "\n",
    "text_splitter = CharacterTextSplitter(\n",
    "    chunk_size=200,    # 每个块的目标大小为100个字符\n",
    "    chunk_overlap=10   # 每个块之间重叠10个字符，以缓解语义割裂\n",
    ")\n",
    "\n",
    "chunks = text_splitter.split_documents(docs)\n",
    "\n",
    "print(f\"文本被切分为 {len(chunks)} 个块。\\n\")\n",
    "print(\"--- 前5个块内容示例 ---\")\n",
    "for i, chunk in enumerate(chunks[:5]):\n",
    "    print(\"=\" * 60)\n",
    "    # chunk 是一个 Document 对象，需要访问它的 .page_content 属性来获取文本\n",
    "    print(f'块 {i+1} (长度: {len(chunk.page_content)}): \"{chunk.page_content}\"')\n"
   ]
  },
  {
   "cell_type": "code",
   "execution_count": 11,
   "id": "845f55b3",
   "metadata": {},
   "outputs": [
    {
     "name": "stdout",
     "output_type": "stream",
     "text": [
      "len =  1\n",
      "文本被切分为 22 个块。\n",
      "\n"
     ]
    }
   ],
   "source": [
    "from langchain.text_splitter import RecursiveCharacterTextSplitter\n",
    "from langchain_community.document_loaders import TextLoader\n",
    "\n",
    "loader = TextLoader(\"../data/C2/txt/蜂医.txt\")\n",
    "docs = loader.load()\n",
    "print(\"len = \", len(docs))\n",
    "\n",
    "text_splitter = RecursiveCharacterTextSplitter(\n",
    "    separators=[\"\\n\\n\", \"\\n\", \"。\", \"，\", \" \", \"\"],  # 分隔符优先级\n",
    "    chunk_size=200,\n",
    "    chunk_overlap=10,\n",
    ")\n",
    "\n",
    "chunks = text_splitter.split_text(docs[0].page_content)\n",
    "print(f\"文本被切分为 {len(chunks)} 个块。\\n\")\n"
   ]
  },
  {
   "cell_type": "code",
   "execution_count": 13,
   "id": "acebe5de",
   "metadata": {},
   "outputs": [],
   "source": [
    "import os\n",
    "## os.environ[\"HF_ENDPOINT\"] = \"https://hf-mirror.com\"\n",
    "from langchain_experimental.text_splitter import SemanticChunker\n",
    "from langchain_community.embeddings import HuggingFaceEmbeddings\n",
    "from langchain_community.document_loaders import TextLoader\n",
    "\n",
    "embeddings = HuggingFaceEmbeddings(\n",
    "    model_name=\"BAAI/bge-small-zh-v1.5\",\n",
    "    model_kwargs={'device': 'cpu'},\n",
    "    encode_kwargs={'normalize_embeddings': True}\n",
    ")\n",
    "\n",
    "# 初始化 SemanticChunker\n",
    "text_splitter = SemanticChunker(\n",
    "    embeddings,\n",
    "    breakpoint_threshold_type=\"percentile\" # 断点识别方法\n",
    ")\n",
    "\n",
    "loader = TextLoader(\"../data/C2/txt/蜂医.txt\")\n",
    "documents = loader.load()\n",
    "\n",
    "docs = text_splitter.split_documents(documents)\n"
   ]
  },
  {
   "cell_type": "code",
   "execution_count": 14,
   "id": "767a918c",
   "metadata": {},
   "outputs": [
    {
     "name": "stdout",
     "output_type": "stream",
     "text": [
      "chunks len =  2\n"
     ]
    }
   ],
   "source": [
    "print(\"chunks len = \", len(docs))"
   ]
  }
 ],
 "metadata": {
  "kernelspec": {
   "display_name": "all-in-rag",
   "language": "python",
   "name": "python3"
  },
  "language_info": {
   "codemirror_mode": {
    "name": "ipython",
    "version": 3
   },
   "file_extension": ".py",
   "mimetype": "text/x-python",
   "name": "python",
   "nbconvert_exporter": "python",
   "pygments_lexer": "ipython3",
   "version": "3.12.7"
  }
 },
 "nbformat": 4,
 "nbformat_minor": 5
}
